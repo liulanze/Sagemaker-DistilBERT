{
 "cells": [
  {
   "cell_type": "code",
   "execution_count": 1,
   "id": "4f7968e7-ea60-492b-9eae-4cc5de2c3c2a",
   "metadata": {
    "execution": {
     "iopub.execute_input": "2025-08-15T21:58:02.904620Z",
     "iopub.status.busy": "2025-08-15T21:58:02.904271Z",
     "iopub.status.idle": "2025-08-15T21:58:05.538595Z",
     "shell.execute_reply": "2025-08-15T21:58:05.537496Z",
     "shell.execute_reply.started": "2025-08-15T21:58:02.904595Z"
    }
   },
   "outputs": [
    {
     "name": "stdout",
     "output_type": "stream",
     "text": [
      "Requirement already satisfied: transformers in /opt/conda/lib/python3.12/site-packages (4.53.1)\n",
      "Requirement already satisfied: filelock in /opt/conda/lib/python3.12/site-packages (from transformers) (3.18.0)\n",
      "Requirement already satisfied: huggingface-hub<1.0,>=0.30.0 in /opt/conda/lib/python3.12/site-packages (from transformers) (0.33.1)\n",
      "Requirement already satisfied: numpy>=1.17 in /opt/conda/lib/python3.12/site-packages (from transformers) (1.26.4)\n",
      "Requirement already satisfied: packaging>=20.0 in /opt/conda/lib/python3.12/site-packages (from transformers) (24.2)\n",
      "Requirement already satisfied: pyyaml>=5.1 in /opt/conda/lib/python3.12/site-packages (from transformers) (6.0.2)\n",
      "Requirement already satisfied: regex!=2019.12.17 in /opt/conda/lib/python3.12/site-packages (from transformers) (2024.11.6)\n",
      "Requirement already satisfied: requests in /opt/conda/lib/python3.12/site-packages (from transformers) (2.32.4)\n",
      "Requirement already satisfied: tokenizers<0.22,>=0.21 in /opt/conda/lib/python3.12/site-packages (from transformers) (0.21.4.dev0)\n",
      "Requirement already satisfied: safetensors>=0.4.3 in /opt/conda/lib/python3.12/site-packages (from transformers) (0.5.3)\n",
      "Requirement already satisfied: tqdm>=4.27 in /opt/conda/lib/python3.12/site-packages (from transformers) (4.67.1)\n",
      "Requirement already satisfied: fsspec>=2023.5.0 in /opt/conda/lib/python3.12/site-packages (from huggingface-hub<1.0,>=0.30.0->transformers) (2024.12.0)\n",
      "Requirement already satisfied: hf-xet<2.0.0,>=1.1.2 in /opt/conda/lib/python3.12/site-packages (from huggingface-hub<1.0,>=0.30.0->transformers) (1.1.5)\n",
      "Requirement already satisfied: typing-extensions>=3.7.4.3 in /opt/conda/lib/python3.12/site-packages (from huggingface-hub<1.0,>=0.30.0->transformers) (4.14.1)\n",
      "Requirement already satisfied: charset_normalizer<4,>=2 in /opt/conda/lib/python3.12/site-packages (from requests->transformers) (3.4.2)\n",
      "Requirement already satisfied: idna<4,>=2.5 in /opt/conda/lib/python3.12/site-packages (from requests->transformers) (3.10)\n",
      "Requirement already satisfied: urllib3<3,>=1.21.1 in /opt/conda/lib/python3.12/site-packages (from requests->transformers) (1.26.19)\n",
      "Requirement already satisfied: certifi>=2017.4.17 in /opt/conda/lib/python3.12/site-packages (from requests->transformers) (2025.6.15)\n"
     ]
    }
   ],
   "source": [
    "!pip install transformers"
   ]
  },
  {
   "cell_type": "code",
   "execution_count": 4,
   "id": "b340c5a2-8fe9-4bce-beff-30d402c09d5e",
   "metadata": {
    "execution": {
     "iopub.execute_input": "2025-08-15T22:01:26.868567Z",
     "iopub.status.busy": "2025-08-15T22:01:26.867388Z",
     "iopub.status.idle": "2025-08-15T22:01:27.036227Z",
     "shell.execute_reply": "2025-08-15T22:01:27.035424Z",
     "shell.execute_reply.started": "2025-08-15T22:01:26.868527Z"
    }
   },
   "outputs": [],
   "source": [
    "import torch\n",
    "import transformers\n",
    "import sagemaker\n",
    "from sagemaker.huggingface import HuggingFace\n",
    "from sagemaker import get_execution_role\n",
    "\n",
    "role = get_execution_role()"
   ]
  },
  {
   "cell_type": "code",
   "execution_count": 5,
   "id": "23d94f1a-c70c-4109-bf83-6ac44ffa16ca",
   "metadata": {
    "execution": {
     "iopub.execute_input": "2025-08-15T22:01:32.599061Z",
     "iopub.status.busy": "2025-08-15T22:01:32.598692Z",
     "iopub.status.idle": "2025-08-15T22:01:32.609610Z",
     "shell.execute_reply": "2025-08-15T22:01:32.608421Z",
     "shell.execute_reply.started": "2025-08-15T22:01:32.599029Z"
    }
   },
   "outputs": [
    {
     "data": {
      "text/plain": [
       "'arn:aws:iam::218892669261:role/service-role/AmazonSageMaker-ExecutionRole-20250810T214295'"
      ]
     },
     "execution_count": 5,
     "metadata": {},
     "output_type": "execute_result"
    }
   ],
   "source": [
    "role"
   ]
  },
  {
   "cell_type": "code",
   "execution_count": 6,
   "id": "c42fce3c-a5de-4081-8eca-c5615cb54cb7",
   "metadata": {
    "execution": {
     "iopub.execute_input": "2025-08-15T22:03:28.287756Z",
     "iopub.status.busy": "2025-08-15T22:03:28.287078Z",
     "iopub.status.idle": "2025-08-15T22:03:28.455057Z",
     "shell.execute_reply": "2025-08-15T22:03:28.454261Z",
     "shell.execute_reply.started": "2025-08-15T22:03:28.287724Z"
    }
   },
   "outputs": [],
   "source": [
    "sagemaker_session = sagemaker.Session()"
   ]
  },
  {
   "cell_type": "code",
   "execution_count": 7,
   "id": "71e59090-2599-4c23-b1ef-259a6607a8f6",
   "metadata": {
    "execution": {
     "iopub.execute_input": "2025-08-15T22:13:29.251230Z",
     "iopub.status.busy": "2025-08-15T22:13:29.250638Z",
     "iopub.status.idle": "2025-08-15T22:13:29.519364Z",
     "shell.execute_reply": "2025-08-15T22:13:29.518508Z",
     "shell.execute_reply.started": "2025-08-15T22:13:29.251201Z"
    }
   },
   "outputs": [],
   "source": [
    "from sagemaker.huggingface import HuggingFace\n",
    "\n",
    "huggingface_estimator = HuggingFace(\n",
    "                        entry_point = 'script.py', # this will contain info about model arch, traninig data, loss function, etc.\n",
    "                        source_dir = './',\n",
    "                        role = role,\n",
    "                        instance_count = 1,\n",
    "                        instance_type = 'ml.p2.xlarge',\n",
    "                        transformers_version = '4.6',\n",
    "                        pytorch_version = '1.8',\n",
    "                        output_path = 's3://sagemaker-us-west-2-218892669261/output/',\n",
    "                        py_version = 'py36',\n",
    "                        hyperparameters = {'epochs':2,\n",
    "                                           'train_batch_size':4,\n",
    "                                           'valid_batch_size':2,\n",
    "                                           'learning_rate':1e-05\n",
    "                                          },\n",
    "                        enable_sagemaker_metrics = True\n",
    "                        )"
   ]
  },
  {
   "cell_type": "code",
   "execution_count": null,
   "id": "ce94058a-4004-4ee7-a50c-5a23e1c563b0",
   "metadata": {},
   "outputs": [],
   "source": [
    "huggingface_estimator.fit()"
   ]
  }
 ],
 "metadata": {
  "kernelspec": {
   "display_name": "Python 3 (ipykernel)",
   "language": "python",
   "name": "python3"
  },
  "language_info": {
   "codemirror_mode": {
    "name": "ipython",
    "version": 3
   },
   "file_extension": ".py",
   "mimetype": "text/x-python",
   "name": "python",
   "nbconvert_exporter": "python",
   "pygments_lexer": "ipython3",
   "version": "3.12.9"
  }
 },
 "nbformat": 4,
 "nbformat_minor": 5
}
